{
 "cells": [
  {
   "cell_type": "code",
   "execution_count": 1,
   "metadata": {},
   "outputs": [],
   "source": [
    "from arxiv_get import mongo_setup, mongo_clean, recursive_arxiv_scrape\n",
    "import logging\n",
    "import sys\n",
    "\n",
    "\n",
    "logging.basicConfig(level=logging.DEBUG)\n",
    "logging.getLogger().handlers = []\n",
    "stdout_handler = logging.StreamHandler(sys.stdout)\n",
    "stdout_handler.setLevel(logging.INFO)\n",
    "stdout_handler.setFormatter(logging.Formatter('%(asctime)s - %(levelname)8s: %(message)s'))\n",
    "logging.getLogger().addHandler(stdout_handler)\n",
    "\n",
    "logname = 'arxiv_get.log'\n",
    "file_handler = logging.FileHandler(logname, mode='a')\n",
    "file_handler.setLevel(logging.DEBUG)\n",
    "file_handler.setFormatter(logging.Formatter('%(asctime)s - %(levelname)8s: %(message)s'))\n",
    "logging.getLogger().addHandler(file_handler)"
   ]
  },
  {
   "cell_type": "code",
   "execution_count": null,
   "metadata": {},
   "outputs": [
    {
     "name": "stdout",
     "output_type": "stream",
     "text": [
      "2019-01-17 19:36:20,665 -     INFO: 1000 out of 1489111 inserted.\n",
      "2019-01-17 19:36:51,497 -     INFO: 2000 out of 1489111 inserted.\n",
      "2019-01-17 19:37:20,411 -     INFO: 3000 out of 1489111 inserted.\n",
      "2019-01-17 19:37:50,336 -     INFO: 4000 out of 1489111 inserted.\n"
     ]
    }
   ],
   "source": [
    "mongo_clean()\n",
    "collection = mongo_setup()\n",
    "recursive_arxiv_scrape(collection, timeout=20)"
   ]
  }
 ],
 "metadata": {
  "kernelspec": {
   "display_name": "Python [conda env:pubwrecker]",
   "language": "python",
   "name": "conda-env-pubwrecker-py"
  },
  "language_info": {
   "codemirror_mode": {
    "name": "ipython",
    "version": 3
   },
   "file_extension": ".py",
   "mimetype": "text/x-python",
   "name": "python",
   "nbconvert_exporter": "python",
   "pygments_lexer": "ipython3",
   "version": "3.7.2"
  },
  "widgets": {
   "state": {},
   "version": "1.1.2"
  }
 },
 "nbformat": 4,
 "nbformat_minor": 2
}
